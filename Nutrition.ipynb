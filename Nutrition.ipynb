{
 "cells": [
  {
   "cell_type": "markdown",
   "metadata": {},
   "source": [
    "# iPython Nutrition Notebook\n",
    "\n",
    "This notebook was created to make it easier to understand how several behavioral variables affect your body's composition. Please add or remove from it what you like, as it was only ever intended to aid the otherwise obnoxiously tedious activity that is macro tracking."
   ]
  },
  {
   "cell_type": "markdown",
   "metadata": {},
   "source": [
    "## Initial setup\n",
    "Start MongoDB and run this cell before interacting with the rest of this notebook."
   ]
  },
  {
   "cell_type": "code",
   "execution_count": 22,
   "metadata": {
    "collapsed": false
   },
   "outputs": [],
   "source": [
    "from pymongo import MongoClient\n",
    "import numpy as np\n",
    "import pandas as pd\n",
    "import datetime as dt\n",
    "import matplotlib\n",
    "import matplotlib.pyplot as plt\n",
    "\n",
    "#Start MongoDB Client\n",
    "client = MongoClient()\n",
    "db = client.primer\n",
    "coll = db.dataset\n",
    "\n",
    "#FOODS\n",
    "\n",
    "#Simple Foods\n",
    "empty = np.array([0.,0.,0.,0.])\n",
    "Egg = np.array([78., 5., 0.6, 6.])\n",
    "Avocado_whole = np.array([234., 21., 12., 2.9])\n",
    "Sour_Cream_1tbsp = np.array([23., 2.4, 0.3, 0.2])\n",
    "Spinach = np.array([7., 0.1, 1.1, 0.9])\n",
    "Chicken_1oz = np.array([32.5, 0.75, 0, 6.5])\n",
    "Peanut_Butter_2tbsp = np.array([200., 16., 6., 8.])\n",
    "Refried_Beans_1serving = np.array([195, 0.89, 33.7, 10.64])\n",
    "Trail_Mix_hfcup = np.array([360, 24., 31.2, 12.])\n",
    "Protein_Powder_1scoop = np.array([140., 2., 6., 24.])\n",
    "Oatmeal_hfcup = np.array([150.0, 3.0, 27.0, 5.0])\n",
    "Sweet_Potato_1oz = np.array([86./3.5274, 0.1/3.5274, 5.6698985088, 1.6/3.5274])\n",
    "White_Rice_1cp = np.array([206, 0.4, 45.0, 4.3])\n",
    "One_Percent_Milk_1cup = np.array([130, 2.5, 16., 11.])\n",
    "Two_Percent_Milk_1cup = np.array([130., 5., 13., 10.])\n",
    "Cottage_Cheese_hfcup = np.array([80.0, 0.0, 6.0, 13.0])\n",
    "\n",
    "#Protein\n",
    "Amplified_Mass_1scoop = np.array([187.5, 1.5, 31, 12.5])\n",
    "Protein_Powder_MochaCappuccino = np.array([120, 1.5, 3., 24.])\n",
    "Protein_Powder_DoubleChocolate = np.array([120, 1., 3., 24.])\n",
    "\n",
    "#Mealy Foods\n",
    "chicken_serving_small = 8*Chicken_1oz\n",
    "chicken_serving_large = 10*Chicken_1oz\n",
    "halfAnAvocado = np.multiply(0.5, Avocado_whole)\n",
    "quarterAnAvocado = np.multiply(0.25, Avocado_whole)\n",
    "omelette = 6*Egg + halfAnAvocado + 6*Sour_Cream_1tbsp + Spinach\n",
    "omeletteLessFat = 6*Egg + quarterAnAvocado + Spinach\n",
    "oatmeal = 2*Oatmeal_hfcup\n",
    "halfMass = 2*Amplified_Mass_1scoop\n",
    "halfMassWithMilk = halfMass + One_Percent_Milk_1cup\n",
    "\n",
    "###### Enums ######\n",
    "#Macronutrients\n",
    "Fat, Carbohydrates, Protein = range(3)\n",
    "#Gender\n",
    "Male, Female = range(2)\n",
    "#Activity Level\n",
    "Sedentary, Light, Moderate, VeryActive = range(4)\n",
    "#Goals\n",
    "WeightLoss, Maintenance, Bulking = [0.8, 1.0, 1.1]\n",
    "\n",
    "    \n",
    "#utility functions\n",
    "def lbsToKG(weightInLbs):\n",
    "    return weightInLbs*0.453592\n",
    "\n",
    "def inToCm(heightInIn):\n",
    "    return heightInIn*2.54\n",
    "\n",
    "def calculateDailyCalories(weightInLbs, heightInIn, age, gender, activityLevel, goal):\n",
    "    restingEnergyExpenditure = 0.\n",
    "    if gender == Male:\n",
    "        restingEnergyExpenditure = 10*lbsToKG(weightInLbs) + 6.25*inToCm(heightInIn) - 5*age + 5.\n",
    "    elif gender == Female:\n",
    "        restingEnergyExpenditure = 10.*lbsToKG(weightInLbs) + 6.25*inToCm(heightInIn) - 5.*age - 161.\n",
    "        \n",
    "    totalDailyEnergyExpenditure = ([1.2, 1.375, 1.55, 1.725][activityLevel]) * restingEnergyExpenditure\n",
    "    \n",
    "    if total[0] > totalDailyEnergyExpenditure*goal:\n",
    "        print \"Warning. Over daily calorie budget by \" + `total[0] - totalDailyEnergyExpenditure*goal` + \" calories.\"\n",
    "    \n",
    "    return totalDailyEnergyExpenditure*goal\n",
    "\n",
    "def calculateGramsOfMacro(targetCalories, currentMacros, macroString, weightInLbs, activityLevel):\n",
    "    gramsProtein = 0.0\n",
    "    gramsCarbs = 0.0\n",
    "    gramsFat = 0.0\n",
    "    \n",
    "    if activityLevel <= 1:\n",
    "        gramsProtein = weightInLbs*0.825\n",
    "    else:\n",
    "        gramsProtein = weightInLbs\n",
    "    gramsFat = (targetCalories * 0.25)/9.0\n",
    "    gramsCarbs = (targetCalories - (gramsFat*9.0 + gramsProtein*4.0))/4.0 \n",
    "    \n",
    "    returnArray = [gramsFat, gramsCarbs, gramsProtein]\n",
    "    \n",
    "    return returnArray[eval(macroString)]\n",
    "\n",
    "def calculateGramsOfMacroLeft(targetCalories, currentMacros, macroString, weightInLbs, activityLevel):\n",
    "    gramsProtein = calculateGramsOfMacro(targetCalories, currentMacros, \"Protein\", weightInLbs, activityLevel)\n",
    "    gramsCarbs = calculateGramsOfMacro(targetCalories, currentMacros, \"Carbohydrates\", weightInLbs, activityLevel)\n",
    "    gramsFat = calculateGramsOfMacro(targetCalories, currentMacros, \"Fat\", weightInLbs, activityLevel)\n",
    "    \n",
    "    gramsProtein = gramsProtein - currentMacros[3]\n",
    "    gramsCarbs = gramsCarbs - currentMacros[2]  \n",
    "    gramsFat = gramsFat - currentMacros[1]\n",
    "    \n",
    "    caloriesToSubtract = currentMacros[0] - targetCalories\n",
    "    constantMultiplier = [9,4,4]\n",
    "    returnArray = [gramsFat, gramsCarbs, gramsProtein]\n",
    "    \n",
    "    if caloriesToSubtract > 0:\n",
    "        return 0\n",
    "    else:\n",
    "        return returnArray[eval(macroString)]\n",
    "\n",
    "def calculateServingsOfFoodLeftByMacro(targetCalories, targetMacroAmountInGrams, currentMacros, macroString, food):\n",
    "    gramsLeft = 0.0\n",
    "    servings = 0.0\n",
    "    \n",
    "    gramsLeft = targetMacroAmountInGrams - currentMacros[eval(macroString)+1]\n",
    "    servings = gramsLeft/eval(food)[eval(macroString)+1]\n",
    "    \n",
    "    if servings < 0:\n",
    "        print \"Over \" + `macroString` + \" budget by \" + `-gramsLeft` + \" grams.\"\n",
    "        print \"Equivalent to \" + `-gramsLeft/eval(food)[eval(macroString)+1]` + \" servings of \" + `food`\n",
    "    elif (targetCalories - currentMacros[0]) < 0:\n",
    "        return 0\n",
    "    \n",
    "    return servings\n",
    "    "
   ]
  },
  {
   "cell_type": "markdown",
   "metadata": {},
   "source": [
    "## Tracking\n",
    "This cell can be used for day-to-day tracking."
   ]
  },
  {
   "cell_type": "code",
   "execution_count": 24,
   "metadata": {
    "collapsed": false
   },
   "outputs": [
    {
     "name": "stdout",
     "output_type": "stream",
     "text": [
      "First Meal Calories: 653.5\n",
      "First Meal Fat: 36.350000000000001\n",
      "First Meal Carbs: 10.699999999999999\n",
      "First Meal Protein: 61.625\n",
      "\n",
      "Second Meal Calories: 1156.75\n",
      "Second Meal Fat: 23.925000000000001\n",
      "Second Meal Carbs: 162.0\n",
      "Second Meal Protein: 81.349999999999994\n",
      "\n",
      "Third Meal Calories: 292.5667630549413\n",
      "Third Meal Fat: 0.34019391052900155\n",
      "Third Meal Carbs: 68.038782105600006\n",
      "Third Meal Protein: 5.4431025684640248\n",
      "\n",
      "Fourth Meal Calories: 0.0\n",
      "Fourth Meal Fat: 0.0\n",
      "Fourth Meal Carbs: 0.0\n",
      "Fourth Meal Protein: 0.0\n",
      "\n",
      "Total Calories: 2102.8167630549415\n",
      "Total Fat: 60.615193910529008\n",
      "Total Carbs: 240.7387821056\n",
      "Total Protein: 148.41810256846401\n"
     ]
    }
   ],
   "source": [
    "#Beginning-of-day tracking\n",
    "weight = 161.4\n",
    "bodyfatpercentage = 12\n",
    "sleep = {\"hours\": 8, \"minutes\": 24}\n",
    "\n",
    "#Meal tracking\n",
    "firstMeal = Protein_Powder_DoubleChocolate + omeletteLessFat\n",
    "print(\"First Meal Calories: \" + `firstMeal[0]`)\n",
    "print(\"First Meal Fat: \" + `firstMeal[1]`)\n",
    "print(\"First Meal Carbs: \" + `firstMeal[2]`)\n",
    "print(\"First Meal Protein: \" + `firstMeal[3]` + \"\\n\")\n",
    "\n",
    "secondMeal = 3*oatmeal + 7.9*Chicken_1oz\n",
    "print(\"Second Meal Calories: \" + `secondMeal[0]`)\n",
    "print(\"Second Meal Fat: \" + `secondMeal[1]`)\n",
    "print(\"Second Meal Carbs: \" + `secondMeal[2]`)\n",
    "print(\"Second Meal Protein: \" + `secondMeal[3]` + \"\\n\")\n",
    "\n",
    "thirdMeal = 12*Sweet_Potato_1oz\n",
    "print(\"Third Meal Calories: \" + `thirdMeal[0]`)\n",
    "print(\"Third Meal Fat: \" + `thirdMeal[1]`)\n",
    "print(\"Third Meal Carbs: \" + `thirdMeal[2]`)\n",
    "print(\"Third Meal Protein: \" + `thirdMeal[3]` + \"\\n\")\n",
    "\n",
    "fourthMeal = empty\n",
    "print(\"Fourth Meal Calories: \" + `fourthMeal[0]`)\n",
    "print(\"Fourth Meal Fat: \" + `fourthMeal[1]`)\n",
    "print(\"Fourth Meal Carbs: \" + `fourthMeal[2]`)\n",
    "print(\"Fourth Meal Protein: \" + `fourthMeal[3]` + \"\\n\")\n",
    "\n",
    "total = firstMeal + secondMeal + thirdMeal + fourthMeal\n",
    "print(\"Total Calories: \" + `total[0]`)\n",
    "print(\"Total Fat: \" + `total[1]`)\n",
    "print(\"Total Carbs: \" + `total[2]`)\n",
    "print(\"Total Protein: \" + `total[3]`)"
   ]
  },
  {
   "cell_type": "markdown",
   "metadata": {},
   "source": [
    "## Database Insertion\n",
    "Use this cell to insert today's data into your MongoDB database"
   ]
  },
  {
   "cell_type": "code",
   "execution_count": 5,
   "metadata": {
    "collapsed": false
   },
   "outputs": [
    {
     "name": "stdout",
     "output_type": "stream",
     "text": [
      "Insertion successful.\n"
     ]
    }
   ],
   "source": [
    "try:\n",
    "  db, total\n",
    "except NameError:\n",
    "  print \"Make sure to run the initial setup and tracking cells before this one.\"\n",
    "else:\n",
    "    daysSinceEpoch = (pd.to_datetime('today') - pd.datetime(1970,1,1)).days - 1\n",
    "\n",
    "    result = db.macros.insert_one(\n",
    "        {\n",
    "            \"date\": daysSinceEpoch,\n",
    "            \"macros\": {\n",
    "                \"calories\": total[0],\n",
    "                \"fat\": total[1],\n",
    "                \"carbohydrates\": total[2],\n",
    "                \"protein\": total[3]\n",
    "            },\n",
    "            \"weight\": weight,\n",
    "            \"bodyfat%\": bodyfatpercentage,\n",
    "            \"sleep\": sleep\n",
    "        }\n",
    "    )\n",
    "    print \"Insertion successful.\""
   ]
  },
  {
   "cell_type": "code",
   "execution_count": 3,
   "metadata": {
    "collapsed": false
   },
   "outputs": [
    {
     "data": {
      "text/plain": [
       "<pymongo.results.DeleteResult at 0x108f30140>"
      ]
     },
     "execution_count": 3,
     "metadata": {},
     "output_type": "execute_result"
    }
   ],
   "source": [
    "db.macros.delete_one({'date': 16861})"
   ]
  },
  {
   "cell_type": "markdown",
   "metadata": {},
   "source": [
    "## Data retrieval\n",
    "Use this cell to view all data collected over a 'daysShown'-day period. The graping cell also depends on the output of this cell, so run this one first before graphing your data."
   ]
  },
  {
   "cell_type": "code",
   "execution_count": 6,
   "metadata": {
    "collapsed": false
   },
   "outputs": [
    {
     "name": "stdout",
     "output_type": "stream",
     "text": [
      "{u'weight': 159.6, u'macros': {u'carbohydrates': 271.7, u'calories': 2873.5, u'protein': 217.625, u'fat': 98.85}, u'sleep': {u'hours': 8, u'minutes': 16}, u'bodyfat%': 12, u'date': 16854, u'_id': ObjectId('56cd6f4ea93ba342a9ef2143')}\n",
      "{u'weight': 161, u'macros': {u'carbohydrates': 408.1658388608, u'calories': 2939.6031071043826, u'protein': 187.52226710891875, u'fat': 62.662329194307425}, u'sleep': {u'hours': 8, u'minutes': 46}, u'bodyfat%': 12, u'date': 16855, u'_id': ObjectId('56ced2daa93ba34afe8ef1e5')}\n",
      "{u'weight': 162, u'macros': {u'carbohydrates': 406.2862448256, u'calories': 3022.0808527527356, u'protein': 168.33289958609743, u'fat': 82.04893122413108}, u'sleep': {u'hours': 8, u'minutes': 45}, u'bodyfat%': 12, u'date': 16856, u'_id': ObjectId('56d01e79a93ba326e6db3362')}\n",
      "{u'weight': 160.4, u'macros': {u'carbohydrates': 269.5, u'calories': 2662.5, u'protein': 159.05, u'fat': 108.75}, u'sleep': {u'hours': 8, u'minutes': 33}, u'bodyfat%': 12, u'date': 16857, u'_id': ObjectId('56d24701a93ba302c5fd4bc3')}\n",
      "{u'weight': 160, u'macros': {u'carbohydrates': 415.37165617664, u'calories': 2863.4881215626237, u'protein': 164.33873249418835, u'fat': 61.71335828088677}, u'sleep': {u'hours': 9, u'minutes': 2}, u'bodyfat%': 12, u'date': 16858, u'_id': ObjectId('56d39b91a93ba32494e82ea1')}\n",
      "{u'weight': 160.8, u'macros': {u'carbohydrates': 322.9523104832, u'calories': 2511.584935079662, u'protein': 166.0451848386914, u'fat': 62.30126155241821}, u'sleep': {u'hours': 9, u'minutes': 2}, u'bodyfat%': 12, u'date': 16859, u'_id': ObjectId('56d3fc20a93ba302f1a1d4cf')}\n",
      "{u'weight': 161, u'macros': {u'carbohydrates': 456.49594035200005, u'calories': 3205.472543516471, u'protein': 195.11867522821342, u'fat': 68.40897970176334}, u'sleep': {u'hours': 7, u'minutes': 40}, u'bodyfat%': 12, u'date': 16860, u'_id': ObjectId('56d5786aa93ba30301aea5b9')}\n",
      "{u'weight': 160.2, u'macros': {u'carbohydrates': 435.7581731584, u'calories': 3389.100144582412, u'protein': 257.13965385269603, u'fat': 67.78529086579351}, u'sleep': {u'hours': 6, u'minutes': 54}, u'bodyfat%': 12, u'date': 16861, u'_id': ObjectId('56d7d526a93ba3482fe3eac7')}\n"
     ]
    }
   ],
   "source": [
    "try:\n",
    "  pd, db\n",
    "except NameError:\n",
    "  print \"Make sure to run the initial setup cell before this one.\"\n",
    "else:\n",
    "    #lists to store tracked variables\n",
    "    daysList = []\n",
    "    caloriesList = []\n",
    "    fatList = []\n",
    "    carbsList = []\n",
    "    proteinList = []\n",
    "    sleepList = []\n",
    "    weightList = []\n",
    "\n",
    "    #setup for mongo search\n",
    "    daysShown = 9\n",
    "    earliestDate = (pd.to_datetime('today') - pd.datetime(1970,1,1)).days - daysShown\n",
    "    cursor = db.macros.find( { 'date': { '$gt': earliestDate } } )\n",
    "\n",
    "    #add each entry's fields to the respective lists\n",
    "    for document in cursor:\n",
    "        daysList.append(document['date'])\n",
    "        caloriesList.append(document['macros']['calories'])\n",
    "        fatList.append(document['macros']['fat'])\n",
    "        carbsList.append(document['macros']['carbohydrates'])\n",
    "        proteinList.append(document['macros']['protein'])\n",
    "        weightList.append(document['weight'])\n",
    "        sleepList.append((document['sleep']['hours'], document['sleep']['minutes']))\n",
    "        print(document)\n",
    "\n",
    "    combinedSleepList = []\n",
    "    for (hours, minutes) in sleepList:\n",
    "        combinedSleepList.append(hours+minutes/60.)\n",
    "    "
   ]
  },
  {
   "cell_type": "markdown",
   "metadata": {},
   "source": [
    "## Graphing.\n",
    "This cell can be used to graph your data!"
   ]
  },
  {
   "cell_type": "code",
   "execution_count": 28,
   "metadata": {
    "collapsed": false
   },
   "outputs": [],
   "source": [
    "try:\n",
    "  caloriesList, dt\n",
    "except NameError:\n",
    "  print \"Make sure to run the initial setup and data retrieval cells before this one.\"\n",
    "else:\n",
    "    today = dt.date.today()\n",
    "\n",
    "    f, ((ax1, ax2), (ax3, ax4)) = plt.subplots(2, 2)\n",
    "    ax1.plot(daysList, caloriesList, color='y')\n",
    "    ax2.plot(daysList, weightList, color='b')\n",
    "    ax3.plot(daysList, carbsList, color='r')\n",
    "    ax4.plot(daysList, combinedSleepList, color='g')\n",
    "\n",
    "    ax1.set_ylim([0, max(caloriesList)*1.4])\n",
    "    ax2.set_ylim([min(weightList), max(weightList)*1.1])\n",
    "    ax3.set_ylim([0, max(carbsList)*1.4])\n",
    "    ax4.set_ylim([min(combinedSleepList), max(combinedSleepList)*1.3])\n",
    "\n",
    "    ax1.set_title('Calories')\n",
    "    ax2.set_title('Weight')\n",
    "    ax3.set_title('Carbohydrates')\n",
    "    ax4.set_title('Sleep')\n",
    "\n",
    "\n",
    "    plt.savefig(`today.month` + \"-\" + `today.day` + \"-\" + `today.year` + \".png\")\n"
   ]
  },
  {
   "cell_type": "markdown",
   "metadata": {},
   "source": [
    "## Useful Calculations\n",
    "The following cell may be useful for doing initial and recurring macronutrient calculations."
   ]
  },
  {
   "cell_type": "code",
   "execution_count": 25,
   "metadata": {
    "collapsed": false
   },
   "outputs": [
    {
     "name": "stdout",
     "output_type": "stream",
     "text": [
      "Daily calories: 3022.6564632\n",
      "Grams of 'Carbohydrates' left: 164.0093047444\n",
      "Additional servings of 'Sweet_Potato_1oz' to meet daily 'Carbohydrates' intake: 28.926321077854986\n"
     ]
    }
   ],
   "source": [
    "try:\n",
    "  Male, Female\n",
    "except NameError:\n",
    "  print \"Make sure to run the initial setup cell before this one.\"\n",
    "else:\n",
    "    macronutrientName = \"Carbohydrates\"\n",
    "    foodName = \"Sweet_Potato_1oz\"\n",
    "    weight = 162\n",
    "    heightInIn = 72\n",
    "    gender = Male\n",
    "    age = 22\n",
    "    activityLevel = Moderate\n",
    "    goal = Bulking\n",
    "    \n",
    "try:\n",
    "    total\n",
    "except NameError:\n",
    "    print \"Make sure to run the tracking cell before running this one.\"\n",
    "else:\n",
    "    calories = calculateDailyCalories(weight, heightInIn, age, gender, activityLevel, goal)\n",
    "    gramsOfMacroLeftToConsume = calculateGramsOfMacroLeft(calories, total, macronutrientName, weight, activityLevel)\n",
    "    gramsOfMacrosTotal = calculateGramsOfMacro(calories, total, macronutrientName, weight, activityLevel)\n",
    "\n",
    "    print \"Daily calories: \" + `calories`\n",
    "    print \"Grams of \" + `macronutrientName` + \" left: \" + `gramsOfMacroLeftToConsume`\n",
    "    print \"Additional servings of \" + `foodName` + \" to meet daily \" + `macronutrientName` + \" intake: \" + `calculateServingsOfFoodLeftByMacro(calories, gramsOfMacrosTotal, total, macronutrientName, foodName)`"
   ]
  },
  {
   "cell_type": "code",
   "execution_count": 17,
   "metadata": {
    "collapsed": false
   },
   "outputs": [
    {
     "name": "stdout",
     "output_type": "stream",
     "text": [
      "456.2706402\n"
     ]
    }
   ],
   "source": [
    "print gramsOfMacrosTotal"
   ]
  },
  {
   "cell_type": "code",
   "execution_count": null,
   "metadata": {
    "collapsed": true
   },
   "outputs": [],
   "source": []
  }
 ],
 "metadata": {
  "kernelspec": {
   "display_name": "Python 2",
   "language": "python",
   "name": "python2"
  },
  "language_info": {
   "codemirror_mode": {
    "name": "ipython",
    "version": 2
   },
   "file_extension": ".py",
   "mimetype": "text/x-python",
   "name": "python",
   "nbconvert_exporter": "python",
   "pygments_lexer": "ipython2",
   "version": "2.7.10"
  }
 },
 "nbformat": 4,
 "nbformat_minor": 0
}
