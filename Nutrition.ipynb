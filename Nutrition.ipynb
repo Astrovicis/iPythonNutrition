{
 "cells": [
  {
   "cell_type": "markdown",
   "metadata": {},
   "source": [
    "# iPython Nutrition Notebook\n",
    "\n",
    "This notebook was created to make it easier to understand how several behavioral variables affect your body's composition. Please add or remove from it what you like, as it was only ever intended to aid the otherwise obnoxiously tedious activity that is macro tracking."
   ]
  },
  {
   "cell_type": "markdown",
   "metadata": {},
   "source": [
    "## Initial setup\n",
    "Start MongoDB and run this cell before interacting with the rest of this notebook."
   ]
  },
  {
   "cell_type": "code",
   "execution_count": 1,
   "metadata": {
    "collapsed": false
   },
   "outputs": [],
   "source": [
    "from pymongo import MongoClient\n",
    "import numpy as np\n",
    "import pandas as pd\n",
    "import datetime as dt\n",
    "import matplotlib\n",
    "import matplotlib.pyplot as plt\n",
    "\n",
    "#Start MongoDB Client\n",
    "client = MongoClient()\n",
    "db = client.primer\n",
    "coll = db.dataset\n",
    "\n",
    "#FOODS\n",
    "\n",
    "#Simple Foods\n",
    "empty = np.array([0.,0.,0.,0.])\n",
    "Egg = np.array([78., 5., 0.6, 6.])\n",
    "Avocado_whole = np.array([234., 21., 12., 2.9])\n",
    "Sour_Cream_1tbsp = np.array([23., 2.4, 0.3, 0.2])\n",
    "Tillamook_Butter_1Gr = np.array([100/14., 12/14., 0, 0])\n",
    "EarthBalance_Butter_1Gr = np.array([100/14., 11/14., 0, 0])\n",
    "Spinach = np.array([7., 0.1, 1.1, 0.9])\n",
    "Chicken_1oz = np.array([32.5, 0.75, 0, 6.5])\n",
    "Tofu_1oz = np.array([40., 2., 1., 4.666])\n",
    "Peanut_Butter_2tbsp = np.array([200., 16., 6., 8.])\n",
    "Refried_Beans_1serving = np.array([195, 0.89, 33.7, 10.64])\n",
    "Trail_Mix_hfcup = np.array([360, 24., 31.2, 12.])\n",
    "Trail_Mix_30Gr = np.array([150., 10., 13. , 5.])\n",
    "Protein_Powder_1scoop = np.array([140., 2., 6., 24.])\n",
    "Oatmeal_hfcup = np.array([150.0, 3.0, 27.0, 5.0])\n",
    "Sweet_Potato_1oz = np.array([86./3.5274, 0.1/3.5274, 5.6698985088, 1.6/3.5274])\n",
    "Potato_1oz = np.array([100/3.5274, 0.1/3.5274, 17/3.5274, 2/3.5274])\n",
    "White_Rice_1cp = np.array([206, 0.4, 45.0, 4.3])\n",
    "One_Percent_Milk_1cup = np.array([130, 2.5, 16., 11.])\n",
    "Two_Percent_Milk_1cup = np.array([130., 5., 13., 10.])\n",
    "Plain_Soymilk_1cup = np.array([100., 4., 8., 7.])\n",
    "AltaDenaOnePercentMilk = np.array([90*8, 0, 13*8, 9*8])\n",
    "Cottage_Cheese_hfcup = np.array([80.0, 0.0, 6.0, 13.0])\n",
    "Brown_Rice_Flour_1cup = np.array([140.*4, 4., 31.*4., 3.*4.])\n",
    "Cornstarch_1tbsp = np.array([30., 0., 7., 0.])\n",
    "\n",
    "#Protein\n",
    "Amplified_Mass_1scoop = np.array([187.5, 1.5, 31, 12.5])\n",
    "Protein_Powder_MochaCappuccino = np.array([120, 1.5, 3., 24.])\n",
    "Protein_Powder_DoubleChocolate = np.array([120, 1., 3., 24.])\n",
    "Protein_Powder_ExtraMilkChocolate = np.array([120, 1.5, 3, 24.])\n",
    "\n",
    "#Mealy Foods\n",
    "chicken_serving_small = 8*Chicken_1oz\n",
    "chicken_serving_large = 10*Chicken_1oz\n",
    "halfAnAvocado = np.multiply(0.5, Avocado_whole)\n",
    "quarterAnAvocado = np.multiply(0.25, Avocado_whole)\n",
    "omelette = 6*Egg + halfAnAvocado + 6*Sour_Cream_1tbsp + Spinach\n",
    "omeletteLessFat = 6*Egg + quarterAnAvocado + Spinach + Refried_Beans_1serving\n",
    "vegieOmeletteLessFat = 6*Tofu_1oz + Plain_Soymilk_1cup/2. + 0.0625011*Brown_Rice_Flour_1cup + Cornstarch_1tbsp + halfAnAvocado + Spinach + Refried_Beans_1serving\n",
    "oatmeal = 2*Oatmeal_hfcup\n",
    "halfMass = 2*Amplified_Mass_1scoop\n",
    "halfMassWithMilk = halfMass + One_Percent_Milk_1cup\n",
    "\n",
    "###### Enums ######\n",
    "#Macronutrients\n",
    "Fat, Carbohydrates, Protein = range(3)\n",
    "#Gender\n",
    "Male, Female = range(2)\n",
    "#Activity Level\n",
    "Sedentary, Light, Moderate, VeryActive = range(4)\n",
    "#Goals\n",
    "WeightLoss, Maintenance, Bulking = [0.8, 1.0, 1.1]\n",
    "\n",
    "    \n",
    "#utility functions\n",
    "def lbsToKG(weightInLbs):\n",
    "    return weightInLbs*0.453592\n",
    "\n",
    "def inToCm(heightInIn):\n",
    "    return heightInIn*2.54\n",
    "\n",
    "def calculateDailyCalories(weightInLbs, heightInIn, age, gender, activityLevel, goal):\n",
    "    restingEnergyExpenditure = 0.\n",
    "    if gender == Male:\n",
    "        restingEnergyExpenditure = 10*lbsToKG(weightInLbs) + 6.25*inToCm(heightInIn) - 5*age + 5.\n",
    "    elif gender == Female:\n",
    "        restingEnergyExpenditure = 10.*lbsToKG(weightInLbs) + 6.25*inToCm(heightInIn) - 5.*age - 161.\n",
    "        \n",
    "    totalDailyEnergyExpenditure = ([1.2, 1.375, 1.55, 1.725][activityLevel]) * restingEnergyExpenditure\n",
    "    \n",
    "    if total[0] > totalDailyEnergyExpenditure*goal:\n",
    "        print \"Warning. Over daily calorie budget by \" + `total[0] - totalDailyEnergyExpenditure*goal` + \" calories.\"\n",
    "    \n",
    "    return totalDailyEnergyExpenditure*goal\n",
    "\n",
    "def calculateGramsOfMacro(targetCalories, currentMacros, macroString, weightInLbs, activityLevel):\n",
    "    gramsProtein = 0.0\n",
    "    gramsCarbs = 0.0\n",
    "    gramsFat = 0.0\n",
    "    \n",
    "    if activityLevel <= 1:\n",
    "        gramsProtein = weightInLbs*0.825\n",
    "    else:\n",
    "        gramsProtein = weightInLbs\n",
    "    gramsFat = (targetCalories * 0.25)/9.0\n",
    "    gramsCarbs = (targetCalories - (gramsFat*9.0 + gramsProtein*4.0))/4.0 \n",
    "    \n",
    "    returnArray = [gramsFat, gramsCarbs, gramsProtein]\n",
    "    \n",
    "    return returnArray[eval(macroString)]\n",
    "\n",
    "def calculateGramsOfMacroLeft(targetCalories, currentMacros, macroString, weightInLbs, activityLevel):\n",
    "    gramsProtein = calculateGramsOfMacro(targetCalories, currentMacros, \"Protein\", weightInLbs, activityLevel)\n",
    "    gramsCarbs = calculateGramsOfMacro(targetCalories, currentMacros, \"Carbohydrates\", weightInLbs, activityLevel)\n",
    "    gramsFat = calculateGramsOfMacro(targetCalories, currentMacros, \"Fat\", weightInLbs, activityLevel)\n",
    "    \n",
    "    gramsProtein = gramsProtein - currentMacros[3]\n",
    "    gramsCarbs = gramsCarbs - currentMacros[2]  \n",
    "    gramsFat = gramsFat - currentMacros[1]\n",
    "    \n",
    "    caloriesToSubtract = currentMacros[0] - targetCalories\n",
    "    constantMultiplier = [9,4,4]\n",
    "    returnArray = [gramsFat, gramsCarbs, gramsProtein]\n",
    "    \n",
    "    if caloriesToSubtract > 0:\n",
    "        return 0\n",
    "    else:\n",
    "        return returnArray[eval(macroString)]\n",
    "\n",
    "def calculateServingsOfFoodLeftByMacro(targetCalories, targetMacroAmountInGrams, currentMacros, macroString, food):\n",
    "    gramsLeft = 0.0\n",
    "    servings = 0.0\n",
    "    \n",
    "    gramsLeft = targetMacroAmountInGrams - currentMacros[eval(macroString)+1]\n",
    "    servings = gramsLeft/eval(food)[eval(macroString)+1]\n",
    "    \n",
    "    if servings < 0:\n",
    "        print \"Over \" + `macroString` + \" budget by \" + `-gramsLeft` + \" grams.\"\n",
    "        print \"Equivalent to \" + `-gramsLeft/eval(food)[eval(macroString)+1]` + \" servings of \" + `food`\n",
    "    elif (targetCalories - currentMacros[0]) < 0:\n",
    "        return 0\n",
    "    \n",
    "    return servings\n",
    "    "
   ]
  },
  {
   "cell_type": "markdown",
   "metadata": {},
   "source": [
    "## Tracking\n",
    "This cell can be used for day-to-day tracking."
   ]
  },
  {
   "cell_type": "code",
   "execution_count": 4,
   "metadata": {
    "collapsed": false
   },
   "outputs": [
    {
     "name": "stdout",
     "output_type": "stream",
     "text": [
      "First Meal Calories: 1194.000616\n",
      "First Meal Fat: 43.240004400000004\n",
      "First Meal Carbs: 100.55013640000001\n",
      "First Meal Protein: 97.236013200000002\n",
      "\n",
      "Second Meal Calories: 1200.0\n",
      "Second Meal Fat: 24.0\n",
      "Second Meal Carbs: 216.0\n",
      "Second Meal Protein: 40.0\n",
      "\n",
      "Third Meal Calories: 0.0\n",
      "Third Meal Fat: 0.0\n",
      "Third Meal Carbs: 0.0\n",
      "Third Meal Protein: 0.0\n",
      "\n",
      "Fourth Meal Calories: 0.0\n",
      "Fourth Meal Fat: 0.0\n",
      "Fourth Meal Carbs: 0.0\n",
      "Fourth Meal Protein: 0.0\n",
      "\n",
      "Fourth Meal Calories: 0.0\n",
      "Fourth Meal Fat: 0.0\n",
      "Fourth Meal Carbs: 0.0\n",
      "Fourth Meal Protein: 0.0\n",
      "\n",
      "Total Calories: 2394.0006160000003\n",
      "Total Fat: 67.240004400000004\n",
      "Total Carbs: 316.55013640000004\n",
      "Total Protein: 137.2360132\n"
     ]
    }
   ],
   "source": [
    "#Beginning-of-day tracking\n",
    "weight = 160.2\n",
    "bodyfatpercentage = 10\n",
    "sleep = {\"hours\": 8, \"minutes\": 0}\n",
    "\n",
    "#Meal tracking\n",
    "firstMeal = Protein_Powder_MochaCappuccino + vegieOmeletteLessFat + 4*Plain_Soymilk_1cup\n",
    "print(\"First Meal Calories: \" + `firstMeal[0]`)\n",
    "print(\"First Meal Fat: \" + `firstMeal[1]`)\n",
    "print(\"First Meal Carbs: \" + `firstMeal[2]`)\n",
    "print(\"First Meal Protein: \" + `firstMeal[3]` + \"\\n\")\n",
    "\n",
    "secondMeal = 4*oatmeal\n",
    "print(\"Second Meal Calories: \" + `secondMeal[0]`)\n",
    "print(\"Second Meal Fat: \" + `secondMeal[1]`)\n",
    "print(\"Second Meal Carbs: \" + `secondMeal[2]`)\n",
    "print(\"Second Meal Protein: \" + `secondMeal[3]` + \"\\n\")\n",
    "\n",
    "thirdMeal = empty\n",
    "print(\"Third Meal Calories: \" + `thirdMeal[0]`)\n",
    "print(\"Third Meal Fat: \" + `thirdMeal[1]`)\n",
    "print(\"Third Meal Carbs: \" + `thirdMeal[2]`)\n",
    "print(\"Third Meal Protein: \" + `thirdMeal[3]` + \"\\n\")\n",
    "\n",
    "fourthMeal = empty\n",
    "print(\"Fourth Meal Calories: \" + `fourthMeal[0]`)\n",
    "print(\"Fourth Meal Fat: \" + `fourthMeal[1]`)\n",
    "print(\"Fourth Meal Carbs: \" + `fourthMeal[2]`)\n",
    "print(\"Fourth Meal Protein: \" + `fourthMeal[3]` + \"\\n\")\n",
    "\n",
    "fifthMeal = empty\n",
    "print(\"Fourth Meal Calories: \" + `fourthMeal[0]`)\n",
    "print(\"Fourth Meal Fat: \" + `fourthMeal[1]`)\n",
    "print(\"Fourth Meal Carbs: \" + `fourthMeal[2]`)\n",
    "print(\"Fourth Meal Protein: \" + `fourthMeal[3]` + \"\\n\")\n",
    "\n",
    "total = firstMeal + secondMeal + thirdMeal + fourthMeal + fifthMeal\n",
    "print(\"Total Calories: \" + `total[0]`)\n",
    "print(\"Total Fat: \" + `total[1]`)\n",
    "print(\"Total Carbs: \" + `total[2]`)\n",
    "print(\"Total Protein: \" + `total[3]`)"
   ]
  },
  {
   "cell_type": "markdown",
   "metadata": {},
   "source": [
    "## Insertion\n",
    "Use this cell to insert data into the database."
   ]
  },
  {
   "cell_type": "code",
   "execution_count": 17,
   "metadata": {
    "collapsed": false
   },
   "outputs": [
    {
     "name": "stdout",
     "output_type": "stream",
     "text": [
      "Insertion successful.\n"
     ]
    }
   ],
   "source": [
    "try:\n",
    "  db, total\n",
    "except NameError:\n",
    "  print \"Make sure to run the initial setup and tracking cells before this one.\"\n",
    "else:\n",
    "    daysSinceEpoch = (pd.to_datetime('today') - pd.datetime(1970,1,1)).days\n",
    "\n",
    "    result = db.macros.insert_one(\n",
    "        {\n",
    "            \"date\": daysSinceEpoch,\n",
    "            \"macros\": {\n",
    "                \"calories\": total[0],\n",
    "                \"fat\": total[1],\n",
    "                \"carbohydrates\": total[2],\n",
    "                \"protein\": total[3]\n",
    "            },\n",
    "            \"weight\": weight,\n",
    "            \"bodyfat%\": bodyfatpercentage,\n",
    "            \"sleep\": sleep\n",
    "        }\n",
    "    )\n",
    "    print \"Insertion successful.\""
   ]
  },
  {
   "cell_type": "code",
   "execution_count": 15,
   "metadata": {
    "collapsed": false
   },
   "outputs": [
    {
     "data": {
      "text/plain": [
       "<pymongo.results.DeleteResult at 0x10cac2c30>"
      ]
     },
     "execution_count": 15,
     "metadata": {},
     "output_type": "execute_result"
    }
   ],
   "source": [
    "db.macros.delete_one({'date': 16904})"
   ]
  },
  {
   "cell_type": "code",
   "execution_count": 5,
   "metadata": {
    "collapsed": false
   },
   "outputs": [
    {
     "data": {
      "text/plain": [
       "<pymongo.results.UpdateResult at 0x108e2faa0>"
      ]
     },
     "execution_count": 5,
     "metadata": {},
     "output_type": "execute_result"
    }
   ],
   "source": [
    "#db.macros.update_one({'date': 16873}, {'$set': {'weight': 162.2}})"
   ]
  },
  {
   "cell_type": "markdown",
   "metadata": {},
   "source": [
    "## Data retrieval\n",
    "Use this cell to view all data collected over a 'daysShown'-day period. The graping cell also depends on the output of this cell, so run this one first before graphing your data."
   ]
  },
  {
   "cell_type": "code",
   "execution_count": 18,
   "metadata": {
    "collapsed": false
   },
   "outputs": [
    {
     "name": "stdout",
     "output_type": "stream",
     "text": [
      "{u'weight': 160.0, u'macros': {u'carbohydrates': 396.02516300928005, u'calories': 3044.073915226917, u'protein': 173.47501304076658, u'fat': 87.96741152933363}, u'sleep': {u'hours': 6, u'minutes': 30}, u'bodyfat%': 10, u'date': 16890, u'_id': ObjectId('56fcc3a0a93ba305f4dc12ad')}\n",
      "{u'weight': 158.6, u'macros': {u'carbohydrates': 473.3234538570667, u'calories': 3349.1068334487077, u'protein': 166.3168785966094, u'fat': 95.54458527300237}, u'sleep': {u'hours': 8, u'minutes': 10}, u'bodyfat%': 10, u'date': 16895, u'_id': ObjectId('57035ce9a93ba33a1c0e1f48')}\n",
      "{u'weight': 158.6, u'macros': {u'carbohydrates': 473.55189406784007, u'calories': 3338.822459688998, u'protein': 162.200153813483, u'fat': 95.71072747405697}, u'sleep': {u'hours': 8, u'minutes': 10}, u'bodyfat%': 10, u'date': 16896, u'_id': ObjectId('5704b051a93ba33350fa40af')}\n",
      "{u'weight': 158.6, u'macros': {u'carbohydrates': 472.84894005056, u'calories': 3332.2854717010828, u'protein': 156.46391749211315, u'fat': 97.69149841825708}, u'sleep': {u'hours': 8, u'minutes': 10}, u'bodyfat%': 10, u'date': 16897, u'_id': ObjectId('57061318a93ba306bc166b89')}\n",
      "{u'weight': 159.6, u'macros': {u'carbohydrates': 480.89367555008005, u'calories': 3323.94926291922, u'protein': 148.70349633205194, u'fat': 95.34957923861039}, u'sleep': {u'hours': 6, u'minutes': 40}, u'bodyfat%': 10, u'date': 16902, u'_id': ObjectId('570d3f6fa93ba376d772bd9f')}\n",
      "{u'weight': 158.8, u'macros': {u'carbohydrates': 511.87462469122227, u'calories': 3665.134433704663, u'protein': 177.68166722279298, u'fat': 95.48226701349923}, u'sleep': {u'hours': 8, u'minutes': 0}, u'bodyfat%': 10, u'date': 16903, u'_id': ObjectId('570de24ca93ba376d772bda0')}\n",
      "{u'weight': 160.2, u'macros': {u'carbohydrates': 496.3674522694401, u'calories': 3483.3007885269117, u'protein': 173.70139846960367, u'fat': 95.34051955077881}, u'sleep': {u'hours': 8, u'minutes': 0}, u'bodyfat%': 10, u'date': 16904, u'_id': ObjectId('570f22b1a93ba32320b45307')}\n"
     ]
    }
   ],
   "source": [
    "try:\n",
    "  pd, db\n",
    "except NameError:\n",
    "  print \"Make sure to run the initial setup cell before this one.\"\n",
    "else:\n",
    "    #lists to store tracked variables\n",
    "    daysList = []\n",
    "    caloriesList = []\n",
    "    fatList = []\n",
    "    carbsList = []\n",
    "    proteinList = []\n",
    "    sleepList = []\n",
    "    weightList = []\n",
    "\n",
    "    #setup for mongo search\n",
    "    daysShown = 15\n",
    "    earliestDate = (pd.to_datetime('today') - pd.datetime(1970,1,1)).days - daysShown\n",
    "    cursor = db.macros.find( { 'date': { '$gt': earliestDate } } )\n",
    "\n",
    "    #add each entry's fields to the respective lists\n",
    "    for document in cursor:\n",
    "        daysList.append(document['date'])\n",
    "        caloriesList.append(document['macros']['calories'])\n",
    "        fatList.append(document['macros']['fat'])\n",
    "        carbsList.append(document['macros']['carbohydrates'])\n",
    "        proteinList.append(document['macros']['protein'])\n",
    "        weightList.append(document['weight'])\n",
    "        sleepList.append((document['sleep']['hours'], document['sleep']['minutes']))\n",
    "        print(document)\n",
    "\n",
    "    combinedSleepList = []\n",
    "    for (hours, minutes) in sleepList:\n",
    "        combinedSleepList.append(hours+minutes/60.)\n",
    "    "
   ]
  },
  {
   "cell_type": "markdown",
   "metadata": {},
   "source": [
    "## Graphing.\n",
    "This cell can be used to graph your data!"
   ]
  },
  {
   "cell_type": "code",
   "execution_count": 19,
   "metadata": {
    "collapsed": false
   },
   "outputs": [],
   "source": [
    "try:\n",
    "  caloriesList, dt\n",
    "except NameError:\n",
    "  print \"Make sure to run the initial setup and data retrieval cells before this one.\"\n",
    "else:\n",
    "    today = dt.date.today()\n",
    "\n",
    "    f, ((ax1, ax2), (ax3, ax4)) = plt.subplots(2, 2)\n",
    "    ax1.plot(daysList, caloriesList, color='y')\n",
    "    ax2.plot(daysList, weightList, color='b')\n",
    "    ax3.plot(daysList, carbsList, color='r')\n",
    "    ax4.plot(daysList, combinedSleepList, color='g')\n",
    "\n",
    "    ax1.set_ylim([0, max(caloriesList)*1.4])\n",
    "    ax2.set_ylim([min(weightList), max(weightList)*1.1])\n",
    "    ax3.set_ylim([0, max(carbsList)*1.4])\n",
    "    ax4.set_ylim([min(combinedSleepList), max(combinedSleepList)*1.3])\n",
    "\n",
    "    ax1.set_title('Calories')\n",
    "    ax2.set_title('Weight')\n",
    "    ax3.set_title('Carbohydrates')\n",
    "    ax4.set_title('Sleep')\n",
    "\n",
    "\n",
    "    plt.savefig(`today.month` + \"-\" + `today.day` + \"-\" + `today.year` + \".png\")\n"
   ]
  },
  {
   "cell_type": "markdown",
   "metadata": {},
   "source": [
    "## Useful Calculations\n",
    "The following cell may be useful for doing initial and recurring macronutrient calculations."
   ]
  },
  {
   "cell_type": "code",
   "execution_count": 5,
   "metadata": {
    "collapsed": false
   },
   "outputs": [
    {
     "name": "stdout",
     "output_type": "stream",
     "text": [
      "Daily calories: 3432.779394000001\n",
      "Current calories: 2394.0006160000003\n",
      "Calories left: 1038.7787780000008\n",
      "\n",
      "Grams of carbohydrates left: 157.09599997500015\n",
      "Additional servings of 'Sweet_Potato_1oz' to meet daily carbohydrate intake: 27.707021515672345\n",
      "\n",
      "Grams of fat left: 28.114978766666695\n",
      "Additional servings of 'EarthBalance_Butter_1Gr' to meet daily fat intake: 35.782700248484886\n",
      "\n",
      "Grams of protein left: 32.763986799999998\n",
      "Additional servings of 'Protein_Powder_MochaCappuccino' to meet daily protein intake: 1.3651661166666667\n",
      "\n"
     ]
    }
   ],
   "source": [
    "try:\n",
    "  Male, Female\n",
    "except NameError:\n",
    "  print \"Make sure to run the initial setup cell before this one.\"\n",
    "else:\n",
    "    fatFoodName = \"EarthBalance_Butter_1Gr\"\n",
    "    carbFoodName = \"Sweet_Potato_1oz\"\n",
    "    proteinFoodName = \"Protein_Powder_MochaCappuccino\"\n",
    "    goalWeight = 170\n",
    "    heightInIn = 72\n",
    "    gender = Male\n",
    "    age = 22\n",
    "    activityLevel = VeryActive\n",
    "    goal = Bulking\n",
    "    \n",
    "try:\n",
    "    total\n",
    "except NameError:\n",
    "    print \"Make sure to run the tracking cell before running this one.\"\n",
    "else:\n",
    "    calories = calculateDailyCalories(goalWeight, heightInIn, age, gender, activityLevel, goal)\n",
    "    gramsOfFatLeftToConsume = calculateGramsOfMacroLeft(calories, total, \"Fat\", goalWeight, activityLevel)\n",
    "    gramsOfFatTotal = calculateGramsOfMacro(calories, total, \"Fat\", goalWeight, activityLevel)\n",
    "    gramsOfCarbsLeftToConsume = calculateGramsOfMacroLeft(calories, total, \"Carbohydrates\", goalWeight, activityLevel)\n",
    "    gramsOfCarbsTotal = calculateGramsOfMacro(calories, total, \"Carbohydrates\", goalWeight, activityLevel)\n",
    "    gramsOfProteinLeftToConsume = calculateGramsOfMacroLeft(calories, total, \"Protein\", goalWeight, activityLevel)\n",
    "    gramsOfProteinTotal = calculateGramsOfMacro(calories, total, \"Protein\", goalWeight, activityLevel)\n",
    "\n",
    "    print \"Daily calories: \" + `calories`\n",
    "    print \"Current calories: \" + `total[0]`\n",
    "    print \"Calories left: \" + `calories-total[0]` + \"\\n\"\n",
    "    \n",
    "    print \"Grams of carbohydrates left: \" + `gramsOfCarbsLeftToConsume`\n",
    "    print \"Additional servings of \" + `carbFoodName` + \" to meet daily carbohydrate intake: \" + `calculateServingsOfFoodLeftByMacro(calories, gramsOfCarbsTotal, total, \"Carbohydrates\", carbFoodName)` + \"\\n\"\n",
    "    print \"Grams of fat left: \" + `gramsOfFatLeftToConsume`\n",
    "    print \"Additional servings of \" + `fatFoodName` + \" to meet daily fat intake: \" + `calculateServingsOfFoodLeftByMacro(calories, gramsOfFatTotal, total, \"Fat\", fatFoodName)` + \"\\n\"\n",
    "    print \"Grams of protein left: \" + `gramsOfProteinLeftToConsume`\n",
    "    print \"Additional servings of \" + `proteinFoodName` + \" to meet daily protein intake: \" + `calculateServingsOfFoodLeftByMacro(calories, gramsOfProteinTotal, total, \"Protein\", proteinFoodName)` + \"\\n\""
   ]
  },
  {
   "cell_type": "code",
   "execution_count": 23,
   "metadata": {
    "collapsed": false
   },
   "outputs": [
    {
     "name": "stdout",
     "output_type": "stream",
     "text": [
      "2634.78338153\n"
     ]
    }
   ],
   "source": [
    "print total[0]"
   ]
  },
  {
   "cell_type": "code",
   "execution_count": null,
   "metadata": {
    "collapsed": true
   },
   "outputs": [],
   "source": []
  }
 ],
 "metadata": {
  "kernelspec": {
   "display_name": "Python 2",
   "language": "python",
   "name": "python2"
  },
  "language_info": {
   "codemirror_mode": {
    "name": "ipython",
    "version": 2
   },
   "file_extension": ".py",
   "mimetype": "text/x-python",
   "name": "python",
   "nbconvert_exporter": "python",
   "pygments_lexer": "ipython2",
   "version": "2.7.10"
  }
 },
 "nbformat": 4,
 "nbformat_minor": 0
}
