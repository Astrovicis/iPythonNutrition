{
 "cells": [
  {
   "cell_type": "code",
   "execution_count": 1,
   "metadata": {
    "collapsed": false
   },
   "outputs": [],
   "source": [
    "from pymongo import MongoClient\n",
    "import numpy as np\n",
    "import pandas as pd\n",
    "import datetime as dt\n",
    "import matplotlib\n",
    "import matplotlib.pyplot as plt\n",
    "matplotlib.rcParams['backend'] = \"Qt4Agg\"\n",
    "\n",
    "client = MongoClient()\n",
    "db = client.primer\n",
    "coll = db.dataset\n",
    "\n",
    "#Simple Foods\n",
    "empty = np.array([0.,0.,0.,0.])\n",
    "Egg = np.array([78., 5., 0.6, 6.])\n",
    "Avocado_whole = np.array([234., 21., 12., 2.9])\n",
    "Sour_Cream_1tbsp = np.array([23., 2.4, 0.3, 0.2])\n",
    "Spinach = np.array([7., 0.1, 1.1, 0.9])\n",
    "Chicken_1oz = np.array([32.5, 0.75, 0, 6.5])\n",
    "Peanut_Butter_2tbsp = np.array([200., 16., 6., 8.])\n",
    "Refried_Beans_1serving = np.array([195, 0.89, 33.7, 10.64])\n",
    "Trail_Mix_hfcup = np.array([360, 24., 31.2, 12.])\n",
    "Protein_Powder_1scoop = np.array([140., 2., 6., 24.])\n",
    "Oatmeal_hfcup = np.array([150.0, 3.0, 27.0, 5.0])\n",
    "Sweet_Potato_1oz = np.array([86./3.5274, 0.1/3.5274, 20./3.5274, 1.6/3.5274])\n",
    "White_Rice_1cp = np.array([206, 0.4, 45.0, 4.3])\n",
    "One_Percent_Milk_1cup = np.array([130, 2.5, 16., 11.])\n",
    "Cottage_Cheese_hfcup = np.array([80.0, 0.0, 6.0, 13.0])\n",
    "\n",
    "#Protein\n",
    "Amplified_Mass_1scoop = np.array([187.5, 1.5, 31, 12.5])\n",
    "Protein_Powder_MochaCappuccino = np.array([120, 1.5, 3., 24.])\n",
    "Protein_Powder_DoubleChocolate = np.array([120, 1., 3., 24.])\n",
    "\n",
    "#Mealy Foods\n",
    "chicken_serving_small = 8*Chicken_1oz\n",
    "chicken_serving_large = 10*Chicken_1oz\n",
    "halfAnAvocado = np.multiply(0.5, Avocado_whole)\n",
    "quarterAnAvocado = np.multiply(0.25, Avocado_whole)\n",
    "omelette = 6*Egg + halfAnAvocado + 6*Sour_Cream_1tbsp + Spinach\n",
    "omeletteLessFat = 6*Egg + quarterAnAvocado + Spinach\n",
    "oatmeal = 2*Oatmeal_hfcup\n",
    "halfMass = 2*Amplified_Mass_1scoop\n",
    "halfMassWithMilk = halfMass + One_Percent_Milk_1cup"
   ]
  },
  {
   "cell_type": "code",
   "execution_count": 3,
   "metadata": {
    "collapsed": false
   },
   "outputs": [
    {
     "name": "stdout",
     "output_type": "stream",
     "text": [
      "First Meal Calories: 653.5\n",
      "First Meal Fat: 36.350000000000001\n",
      "First Meal Carbs: 10.699999999999999\n",
      "First Meal Protein: 61.625\n",
      "\n",
      "Second Meal Calories: 900.0\n",
      "Second Meal Fat: 18.0\n",
      "Second Meal Carbs: 162.0\n",
      "Second Meal Protein: 30.0\n",
      "\n",
      "Third Meal Calories: 406.0\n",
      "Third Meal Fat: 7.6000000000000005\n",
      "Third Meal Carbs: 3.0\n",
      "Third Meal Protein: 81.200000000000003\n",
      "\n",
      "Fourth Meal Calories: 0.0\n",
      "Fourth Meal Fat: 0.0\n",
      "Fourth Meal Carbs: 0.0\n",
      "Fourth Meal Protein: 0.0\n",
      "\n",
      "Total Calories: 1959.5\n",
      "Total Fat: 61.950000000000003\n",
      "Total Carbs: 175.69999999999999\n",
      "Total Protein: 172.82499999999999\n"
     ]
    }
   ],
   "source": [
    "weight = 157.8\n",
    "bodyfatpercentage = 12\n",
    "sleep = {\"hours\": 9, \"minutes\": 53}\n",
    "\n",
    "firstMeal = Protein_Powder_DoubleChocolate + omeletteLessFat\n",
    "print(\"First Meal Calories: \" + `firstMeal[0]`)\n",
    "print(\"First Meal Fat: \" + `firstMeal[1]`)\n",
    "print(\"First Meal Carbs: \" + `firstMeal[2]`)\n",
    "print(\"First Meal Protein: \" + `firstMeal[3]` + \"\\n\")\n",
    "\n",
    "secondMeal = 3*oatmeal\n",
    "print(\"Second Meal Calories: \" + `secondMeal[0]`)\n",
    "print(\"Second Meal Fat: \" + `secondMeal[1]`)\n",
    "print(\"Second Meal Carbs: \" + `secondMeal[2]`)\n",
    "print(\"Second Meal Protein: \" + `secondMeal[3]` + \"\\n\")\n",
    "\n",
    "thirdMeal = Protein_Powder_DoubleChocolate + 8.8*Chicken_1oz\n",
    "print(\"Third Meal Calories: \" + `thirdMeal[0]`)\n",
    "print(\"Third Meal Fat: \" + `thirdMeal[1]`)\n",
    "print(\"Third Meal Carbs: \" + `thirdMeal[2]`)\n",
    "print(\"Third Meal Protein: \" + `thirdMeal[3]` + \"\\n\")\n",
    "\n",
    "fourthMeal = empty\n",
    "print(\"Fourth Meal Calories: \" + `fourthMeal[0]`)\n",
    "print(\"Fourth Meal Fat: \" + `fourthMeal[1]`)\n",
    "print(\"Fourth Meal Carbs: \" + `fourthMeal[2]`)\n",
    "print(\"Fourth Meal Protein: \" + `fourthMeal[3]` + \"\\n\")\n",
    "\n",
    "total = firstMeal + secondMeal + thirdMeal + fourthMeal\n",
    "print(\"Total Calories: \" + `total[0]`)\n",
    "print(\"Total Fat: \" + `total[1]`)\n",
    "print(\"Total Carbs: \" + `total[2]`)\n",
    "print(\"Total Protein: \" + `total[3]`)\n"
   ]
  },
  {
   "cell_type": "code",
   "execution_count": null,
   "metadata": {
    "collapsed": false
   },
   "outputs": [],
   "source": [
    "import matplotlib.pyplot as plt\n",
    "\n",
    "\n",
    "\n",
    "plt.savefig(`date.month` + \"-\" + `date.day` + \"-\" + `date.year` + \".png\")\n"
   ]
  },
  {
   "cell_type": "code",
   "execution_count": 32,
   "metadata": {
    "collapsed": false
   },
   "outputs": [
    {
     "name": "stdout",
     "output_type": "stream",
     "text": [
      "{u'weight': 158.8, u'macros': {u'carbohydrates': 253.0, u'calories': 2250.0, u'protein': 200.0, u'fat': 53.0}, u'sleep': {u'hours': 7, u'minutes': 24}, u'bodyfat%': 10, u'date': 16847, u'_id': ObjectId('56c2dc26bfdaef0adb0051f0')}\n",
      "{u'weight': 159.0, u'macros': {u'carbohydrates': 272.7, u'calories': 2743.5, u'protein': 257.625, u'fat': 65.35}, u'sleep': {u'hours': 7, u'minutes': 39}, u'bodyfat%': 12, u'date': 16847, u'_id': ObjectId('56c4125abfdaefd99f82822c')}\n",
      "{u'weight': 159.0, u'macros': {u'carbohydrates': 325.3853206327607, u'calories': 2551.146878720871, u'protein': 174.39982565062087, u'fat': 62.4984266031638}, u'sleep': {u'hours': 8, u'minutes': 25}, u'bodyfat%': 12, u'date': 16848, u'_id': ObjectId('56c570b5a93ba30bd6df3cd3')}\n",
      "{u'weight': 159.0, u'macros': {u'carbohydrates': 276.94658388614846, u'calories': 2749.2103107104385, u'protein': 252.63472671089187, u'fat': 70.29123291943074}, u'sleep': {u'hours': 9, u'minutes': 3}, u'bodyfat%': 12, u'date': 16849, u'_id': ObjectId('56c6cda4a93ba30f94ec35c5')}\n",
      "{u'weight': 158.8, u'macros': {u'carbohydrates': 384.03797017633383, u'calories': 2719.0912717582355, u'protein': 164.75983761410671, u'fat': 65.48698985088166}, u'sleep': {u'hours': 8, u'minutes': 5}, u'bodyfat%': 12, u'date': 16850, u'_id': ObjectId('56c842f2a93ba306b8daa6c7')}\n"
     ]
    }
   ],
   "source": [
    "daysShown = 7\n",
    "earliestDate = (pd.to_datetime('today') - pd.datetime(1970,1,1)).days - daysShown\n",
    "cursor = db.macros.find( { 'date': { '$gt': earliestDate } } )\n",
    "\n",
    "days = []\n",
    "calories = []\n",
    "fat = []\n",
    "carbs = []\n",
    "protein = []\n",
    "sleep = []\n",
    "weight = []\n",
    "\n",
    "for document in cursor:\n",
    "    days.append(document['date'])\n",
    "    calories.append(document['macros']['calories'])\n",
    "    fat.append(document['macros']['fat'])\n",
    "    carbs.append(document['macros']['carbohydrates'])\n",
    "    protein.append(document['macros']['protein'])\n",
    "    weight.append(document['weight'])\n",
    "    sleep.append((document['sleep']['hours'],document['sleep']['minutes']))\n",
    "    print(document)\n"
   ]
  },
  {
   "cell_type": "code",
   "execution_count": 33,
   "metadata": {
    "collapsed": false
   },
   "outputs": [],
   "source": [
    "today = dt.date.today()\n",
    "\n",
    "\n",
    "f, ((ax1, ax2), (ax3, ax4)) = plt.subplots(2, 2)\n",
    "ax1.plot(days, calories, color='y')\n",
    "ax2.plot(days, weight, color='b')\n",
    "ax3.plot(days, carbs, color='r')\n",
    "ax4.plot(days, protein, color='g')\n",
    "\n",
    "ax1.set_ylim([min(calories), max(calories)*1.5])\n",
    "ax2.set_ylim([min(weight), max(weight)*1.1])\n",
    "ax3.set_ylim([min(carbs), max(carbs)*1.5])\n",
    "ax4.set_ylim([min(protein), max(protein)*1.3])\n",
    "\n",
    "ax1.set_title('Calories')\n",
    "ax2.set_title('Weight')\n",
    "ax3.set_title('Carbohydrates')\n",
    "ax4.set_title('Protein')\n",
    "\n",
    "\n",
    "plt.savefig(`today.month` + \"-\" + `today.day` + \"-\" + `today.year` + \".png\")\n"
   ]
  },
  {
   "cell_type": "code",
   "execution_count": 29,
   "metadata": {
    "collapsed": false
   },
   "outputs": [
    {
     "name": "stdout",
     "output_type": "stream",
     "text": [
      "[16847, 16847, 16848, 16849, 16850]\n",
      "[2250.0, 2743.5, 2551.146878720871, 2749.2103107104385, 2719.0912717582355]\n",
      "[53.0, 65.35, 62.4984266031638, 70.29123291943074, 65.48698985088166]\n",
      "[253.0, 272.7, 325.3853206327607, 276.94658388614846, 384.03797017633383]\n",
      "[200.0, 257.625, 174.39982565062087, 252.63472671089187, 164.75983761410671]\n",
      "[(7, 24), (7, 39), (8, 25), (9, 3), (8, 5)]\n",
      "[158.8, 159.0, 159.0, 159.0, 158.8]\n"
     ]
    }
   ],
   "source": [
    "print days\n",
    "print calories\n",
    "print fat\n",
    "print carbs\n",
    "print protein\n",
    "print sleep\n",
    "print weight"
   ]
  },
  {
   "cell_type": "code",
   "execution_count": 30,
   "metadata": {
    "collapsed": false
   },
   "outputs": [
    {
     "ename": "NameError",
     "evalue": "name 'total' is not defined",
     "output_type": "error",
     "traceback": [
      "\u001b[0;31m---------------------------------------------------------------------------\u001b[0m",
      "\u001b[0;31mNameError\u001b[0m                                 Traceback (most recent call last)",
      "\u001b[0;32m<ipython-input-30-830ec3497c97>\u001b[0m in \u001b[0;36m<module>\u001b[0;34m()\u001b[0m\n\u001b[1;32m      5\u001b[0m         \u001b[0;34m\"date\"\u001b[0m\u001b[0;34m:\u001b[0m \u001b[0mdaysSinceEpoch\u001b[0m\u001b[0;34m,\u001b[0m\u001b[0;34m\u001b[0m\u001b[0m\n\u001b[1;32m      6\u001b[0m         \"macros\": {\n\u001b[0;32m----> 7\u001b[0;31m             \u001b[0;34m\"calories\"\u001b[0m\u001b[0;34m:\u001b[0m \u001b[0mtotal\u001b[0m\u001b[0;34m[\u001b[0m\u001b[0;36m0\u001b[0m\u001b[0;34m]\u001b[0m\u001b[0;34m,\u001b[0m\u001b[0;34m\u001b[0m\u001b[0m\n\u001b[0m\u001b[1;32m      8\u001b[0m             \u001b[0;34m\"fat\"\u001b[0m\u001b[0;34m:\u001b[0m \u001b[0mtotal\u001b[0m\u001b[0;34m[\u001b[0m\u001b[0;36m1\u001b[0m\u001b[0;34m]\u001b[0m\u001b[0;34m,\u001b[0m\u001b[0;34m\u001b[0m\u001b[0m\n\u001b[1;32m      9\u001b[0m             \u001b[0;34m\"carbohydrates\"\u001b[0m\u001b[0;34m:\u001b[0m \u001b[0mtotal\u001b[0m\u001b[0;34m[\u001b[0m\u001b[0;36m2\u001b[0m\u001b[0;34m]\u001b[0m\u001b[0;34m,\u001b[0m\u001b[0;34m\u001b[0m\u001b[0m\n",
      "\u001b[0;31mNameError\u001b[0m: name 'total' is not defined"
     ]
    }
   ],
   "source": [
    "daysSinceEpoch = (pd.to_datetime('today') - pd.datetime(1970,1,1)).days - 1\n",
    "\n",
    "result = db.macros.insert_one(\n",
    "    {\n",
    "        \"date\": daysSinceEpoch,\n",
    "        \"macros\": {\n",
    "            \"calories\": total[0],\n",
    "            \"fat\": total[1],\n",
    "            \"carbohydrates\": total[2],\n",
    "            \"protein\": total[3]\n",
    "        },\n",
    "        \"weight\": weight,\n",
    "        \"bodyfat%\": bodyfatpercentage,\n",
    "        \"sleep\": sleep\n",
    "    }\n",
    ")"
   ]
  },
  {
   "cell_type": "code",
   "execution_count": null,
   "metadata": {
    "collapsed": true
   },
   "outputs": [],
   "source": []
  }
 ],
 "metadata": {
  "kernelspec": {
   "display_name": "Python 2",
   "language": "python",
   "name": "python2"
  },
  "language_info": {
   "codemirror_mode": {
    "name": "ipython",
    "version": 2
   },
   "file_extension": ".py",
   "mimetype": "text/x-python",
   "name": "python",
   "nbconvert_exporter": "python",
   "pygments_lexer": "ipython2",
   "version": "2.7.10"
  }
 },
 "nbformat": 4,
 "nbformat_minor": 0
}
