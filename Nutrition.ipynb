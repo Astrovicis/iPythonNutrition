{
 "cells": [
  {
   "cell_type": "markdown",
   "metadata": {},
   "source": [
    "# iPython Nutrition Notebook\n",
    "\n",
    "This notebook was created to make it easier to understand how several behavioral variables affect your body's composition. Please add or remove from it what you like, as it was only ever intended to aid the otherwise obnoxiously tedious activity that is macro tracking."
   ]
  },
  {
   "cell_type": "markdown",
   "metadata": {},
   "source": [
    "## Initial setup"
   ]
  },
  {
   "cell_type": "code",
   "execution_count": null,
   "metadata": {
    "collapsed": false
   },
   "outputs": [],
   "source": [
    "from pymongo import MongoClient\n",
    "import numpy as np\n",
    "import pandas as pd\n",
    "import datetime as dt\n",
    "import matplotlib\n",
    "import matplotlib.pyplot as plt\n",
    "\n",
    "#Start MongoDB Client\n",
    "client = MongoClient()\n",
    "db = client.primer\n",
    "coll = db.dataset\n",
    "\n",
    "#FOODS\n",
    "\n",
    "#Simple Foods\n",
    "empty = np.array([0.,0.,0.,0.])\n",
    "Egg = np.array([78., 5., 0.6, 6.])\n",
    "Avocado_whole = np.array([234., 21., 12., 2.9])\n",
    "Sour_Cream_1tbsp = np.array([23., 2.4, 0.3, 0.2])\n",
    "Spinach = np.array([7., 0.1, 1.1, 0.9])\n",
    "Chicken_1oz = np.array([32.5, 0.75, 0, 6.5])\n",
    "Peanut_Butter_2tbsp = np.array([200., 16., 6., 8.])\n",
    "Refried_Beans_1serving = np.array([195, 0.89, 33.7, 10.64])\n",
    "Trail_Mix_hfcup = np.array([360, 24., 31.2, 12.])\n",
    "Protein_Powder_1scoop = np.array([140., 2., 6., 24.])\n",
    "Oatmeal_hfcup = np.array([150.0, 3.0, 27.0, 5.0])\n",
    "Sweet_Potato_1oz = np.array([86./3.5274, 0.1/3.5274, 5.6698985088, 1.6/3.5274])\n",
    "White_Rice_1cp = np.array([206, 0.4, 45.0, 4.3])\n",
    "One_Percent_Milk_1cup = np.array([130, 2.5, 16., 11.])\n",
    "Two_Percent_Milk_1cup = np.array([130., 5., 13., 10.])\n",
    "Cottage_Cheese_hfcup = np.array([80.0, 0.0, 6.0, 13.0])\n",
    "\n",
    "#Protein\n",
    "Amplified_Mass_1scoop = np.array([187.5, 1.5, 31, 12.5])\n",
    "Protein_Powder_MochaCappuccino = np.array([120, 1.5, 3., 24.])\n",
    "Protein_Powder_DoubleChocolate = np.array([120, 1., 3., 24.])\n",
    "\n",
    "#Mealy Foods\n",
    "chicken_serving_small = 8*Chicken_1oz\n",
    "chicken_serving_large = 10*Chicken_1oz\n",
    "halfAnAvocado = np.multiply(0.5, Avocado_whole)\n",
    "quarterAnAvocado = np.multiply(0.25, Avocado_whole)\n",
    "omelette = 6*Egg + halfAnAvocado + 6*Sour_Cream_1tbsp + Spinach\n",
    "omeletteLessFat = 6*Egg + quarterAnAvocado + Spinach\n",
    "oatmeal = 2*Oatmeal_hfcup\n",
    "halfMass = 2*Amplified_Mass_1scoop\n",
    "halfMassWithMilk = halfMass + One_Percent_Milk_1cup\n",
    "\n",
    "## Enums\n",
    "#Macronutrients\n",
    "Fat, Carbohydrates, Protein = range(3)\n",
    "#Gender\n",
    "Male, Female = range(2)\n",
    "#Activity Level\n",
    "Sedentary, Light, Moderate, VeryActive = range(4)\n",
    "\n",
    "    \n",
    "#utility functions\n",
    "def lbsToKG(weightInLbs):\n",
    "    return weightInLbs*0.453592\n",
    "\n",
    "def inToCm(heightInIn):\n",
    "    return heightInIn*2.54\n",
    "\n",
    "def calculateTotalCalories(weightInLbs, heightInIn, age, gender, activityLevel):\n",
    "    restingEnergyExpenditure = 0.\n",
    "    if gender == Male:\n",
    "        restingEnergyExpenditure = 10*lbsToKG(weightInLbs) + 6.25*inToCm(heightInIn) - 5*age + 5.\n",
    "    elif gender == Female:\n",
    "        restingEnergyExpenditure = 10.*lbsToKG(weightInLbs) + 6.25*inToCm(heightInIn) - 5.*age - 161.\n",
    "        \n",
    "    totalDailyEnergyExpenditure = ([1.2, 1.375, 1.55, 1.725][activityLevel]) * restingEnergyExpenditure\n",
    "    \n",
    "    return totalDailyEnergyExpenditure\n",
    "\n",
    "def calculateGramsOfMacro(targetCalories, currentMacros, macroString, weightInLbs, activityLevel):\n",
    "    gramsProtein = 0.0\n",
    "    gramsCarbs = 0.0\n",
    "    gramsFat = 0.0\n",
    "    \n",
    "    if activityLevel <= 1:\n",
    "        gramsProtein = weightInLbs*0.825\n",
    "    else:\n",
    "        gramsProtein = weightInLbs\n",
    "    gramsFat = (targetCalories * 0.25)/9.0\n",
    "    gramsCarbs = (targetCalories - (gramsFat*9.0 + gramsProtein*4.0))/4.0 \n",
    "    \n",
    "    returnArray = [gramsFat, gramsCarbs, gramsProtein]\n",
    "    \n",
    "    return returnArray[eval(macroString)]\n",
    "\n",
    "def calculateGramsOfMacroLeft(targetCalories, currentMacros, macroString, weightInLbs, activityLevel):\n",
    "    gramsProtein = calculateGramsOfMacro(targetCalories, currentMacros, \"Protein\", weightInLbs, activityLevel)\n",
    "    gramsCarbs = calculateGramsOfMacro(targetCalories, currentMacros, \"Carbohydrates\", weightInLbs, activityLevel)\n",
    "    gramsFat = calculateGramsOfMacro(targetCalories, currentMacros, \"Fat\", weightInLbs, activityLevel)\n",
    "    \n",
    "    gramsProtein = gramsProtein - currentMacros[3]\n",
    "    gramsCarbs = gramsCarbs - currentMacros[2]  \n",
    "    gramsFat = gramsFat - currentMacros[1]\n",
    "    \n",
    "    returnArray = [gramsFat, gramsCarbs, gramsProtein]\n",
    "    \n",
    "    return returnArray[eval(macroString)]\n",
    "\n",
    "def calculateServingsOfFoodLeftByMacro(targetMacroAmountInGrams, currentMacros, macroString, food):\n",
    "    gramsLeft = 0.0\n",
    "    servings = 0.0\n",
    "    \n",
    "    gramsLeft = targetMacroAmountInGrams - currentMacros[eval(macroString)+1]\n",
    "    servings = gramsLeft/eval(food)[eval(macroString)+1]\n",
    "    \n",
    "    if servings < 0:\n",
    "        print \"Over \" + `macroString` + \" budget by \" + `-gramsLeft` + \" grams.\"\n",
    "        print \"Equivalent to \" + `-gramsLeft/eval(food)[eval(macroString)+1]` + \" servings of \" + `food`\n",
    "\n",
    "    return servings\n",
    "    "
   ]
  },
  {
   "cell_type": "markdown",
   "metadata": {},
   "source": [
    "## Tracking"
   ]
  },
  {
   "cell_type": "code",
   "execution_count": null,
   "metadata": {
    "collapsed": false
   },
   "outputs": [],
   "source": [
    "#Beginning-of-day tracking\n",
    "weight = 160\n",
    "bodyfatpercentage = 12\n",
    "sleep = {\"hours\": 9, \"minutes\": 2}\n",
    "\n",
    "#Meal tracking\n",
    "firstMeal = Protein_Powder_DoubleChocolate + omeletteLessFat\n",
    "print(\"First Meal Calories: \" + `firstMeal[0]`)\n",
    "print(\"First Meal Fat: \" + `firstMeal[1]`)\n",
    "print(\"First Meal Carbs: \" + `firstMeal[2]`)\n",
    "print(\"First Meal Protein: \" + `firstMeal[3]` + \"\\n\")\n",
    "\n",
    "secondMeal = 3*oatmeal\n",
    "print(\"Second Meal Calories: \" + `secondMeal[0]`)\n",
    "print(\"Second Meal Fat: \" + `secondMeal[1]`)\n",
    "print(\"Second Meal Carbs: \" + `secondMeal[2]`)\n",
    "print(\"Second Meal Protein: \" + `secondMeal[3]` + \"\\n\")\n",
    "\n",
    "thirdMeal = 42.8*Sweet_Potato_1oz \n",
    "print(\"Third Meal Calories: \" + `thirdMeal[0]`)\n",
    "print(\"Third Meal Fat: \" + `thirdMeal[1]`)\n",
    "print(\"Third Meal Carbs: \" + `thirdMeal[2]`)\n",
    "print(\"Third Meal Protein: \" + `thirdMeal[3]` + \"\\n\")\n",
    "\n",
    "fourthMeal = 8.2*Chicken_1oz\n",
    "print(\"Fourth Meal Calories: \" + `fourthMeal[0]`)\n",
    "print(\"Fourth Meal Fat: \" + `fourthMeal[1]`)\n",
    "print(\"Fourth Meal Carbs: \" + `fourthMeal[2]`)\n",
    "print(\"Fourth Meal Protein: \" + `fourthMeal[3]` + \"\\n\")\n",
    "\n",
    "total = firstMeal + secondMeal + thirdMeal + fourthMeal\n",
    "print(\"Total Calories: \" + `total[0]`)\n",
    "print(\"Total Fat: \" + `total[1]`)\n",
    "print(\"Total Carbs: \" + `total[2]`)\n",
    "print(\"Total Protein: \" + `total[3]`)\n"
   ]
  },
  {
   "cell_type": "markdown",
   "metadata": {},
   "source": [
    "## Useful Calculations\n",
    "The following cell may be useful for doing common macronutrient calculations."
   ]
  },
  {
   "cell_type": "code",
   "execution_count": null,
   "metadata": {
    "collapsed": false
   },
   "outputs": [],
   "source": [
    "macronutrientName = \"Carbohydrates\"\n",
    "foodName = \"Sweet_Potato_1oz\"\n",
    "weight = 162\n",
    "heightInIn = 72\n",
    "gender = Male\n",
    "age = 22\n",
    "activityLevel = Moderate\n",
    "\n",
    "maintenanceCalories = calculateTotalCalories(weight, heightInIn, age, gender, activityLevel)\n",
    "gramsOfMacroLeftToConsume = calculateGramsOfMacroLeft(maintenanceCalories, total, macronutrientName, weight, activityLevel)\n",
    "gramsOfMacrosTotal = calculateGramsOfMacro(maintenanceCalories, total, macronutrientName, weight, activityLevel)\n",
    "\n",
    "print \"Daily calories for maintaining current weight: \" + `calculateTotalCalories(weight, heightInIn, age, gender, activityLevel)`\n",
    "print \"Grams of \" + `macronutrientName` + \" left: \" + `gramsOfMacroLeftToConsume`\n",
    "print \"Additional servings of \" + `foodName` + \" to meet daily \" + `macronutrientName` + \" intake: \" + `calculateServingsOfFoodLeftByMacro(gramsOfMacrosTotal, total, macronutrientName, foodName)`"
   ]
  },
  {
   "cell_type": "markdown",
   "metadata": {},
   "source": [
    "## Data retrieval\n",
    "Use this cell to view all data collected over a 'daysShown'-day period."
   ]
  },
  {
   "cell_type": "code",
   "execution_count": null,
   "metadata": {
    "collapsed": false
   },
   "outputs": [],
   "source": [
    "#lists to store tracked variables\n",
    "daysList = []\n",
    "caloriesList = []\n",
    "fatList = []\n",
    "carbsList = []\n",
    "proteinList = []\n",
    "sleepList = []\n",
    "weightList = []\n",
    "\n",
    "#setup for mongo search\n",
    "daysShown = 9\n",
    "earliestDate = (pd.to_datetime('today') - pd.datetime(1970,1,1)).days - daysShown\n",
    "cursor = db.macros.find( { 'date': { '$gt': earliestDate } } )\n",
    "\n",
    "#add each entry's fields to the respective lists\n",
    "for document in cursor:\n",
    "    daysList.append(document['date'])\n",
    "    caloriesList.append(document['macros']['calories'])\n",
    "    fatList.append(document['macros']['fat'])\n",
    "    carbsList.append(document['macros']['carbohydrates'])\n",
    "    proteinList.append(document['macros']['protein'])\n",
    "    weightList.append(document['weight'])\n",
    "    sleepList.append((document['sleep']['hours'], document['sleep']['minutes']))\n",
    "    print(document)\n",
    "    \n",
    "combinedSleepList = []\n",
    "for (hours, minutes) in sleepList:\n",
    "    combinedSleepList.append(hours+minutes/60.)\n",
    "    "
   ]
  },
  {
   "cell_type": "markdown",
   "metadata": {},
   "source": [
    "## Graphing."
   ]
  },
  {
   "cell_type": "code",
   "execution_count": null,
   "metadata": {
    "collapsed": false
   },
   "outputs": [],
   "source": [
    "today = dt.date.today()\n",
    "\n",
    "\n",
    "f, ((ax1, ax2), (ax3, ax4)) = plt.subplots(2, 2)\n",
    "ax1.plot(daysList, caloriesList, color='y')\n",
    "ax2.plot(daysList, weightList, color='b')\n",
    "ax3.plot(daysList, carbsList, color='r')\n",
    "ax4.plot(daysList, combinedSleepList, color='g')\n",
    "\n",
    "ax1.set_ylim([min(caloriesList), max(caloriesList)*1.5])\n",
    "ax2.set_ylim([min(weightList), max(weightList)*1.1])\n",
    "ax3.set_ylim([min(carbsList), max(carbsList)*1.5])\n",
    "ax4.set_ylim([min(combinedSleepList), max(combinedSleepList)*1.3])\n",
    "\n",
    "ax1.set_title('Calories')\n",
    "ax2.set_title('Weight')\n",
    "ax3.set_title('Carbohydrates')\n",
    "ax4.set_title('Sleep')\n",
    "\n",
    "\n",
    "plt.savefig(`today.month` + \"-\" + `today.day` + \"-\" + `today.year` + \".png\")\n"
   ]
  },
  {
   "cell_type": "markdown",
   "metadata": {},
   "source": [
    "## Database Insertion\n",
    "Use this cell to insert today's data into your MongoDB database"
   ]
  },
  {
   "cell_type": "code",
   "execution_count": null,
   "metadata": {
    "collapsed": false
   },
   "outputs": [],
   "source": [
    "daysSinceEpoch = (pd.to_datetime('today') - pd.datetime(1970,1,1)).days - 1\n",
    "\n",
    "result = db.macros.insert_one(\n",
    "    {\n",
    "        \"date\": daysSinceEpoch,\n",
    "        \"macros\": {\n",
    "            \"calories\": total[0],\n",
    "            \"fat\": total[1],\n",
    "            \"carbohydrates\": total[2],\n",
    "            \"protein\": total[3]\n",
    "        },\n",
    "        \"weight\": weight,\n",
    "        \"bodyfat%\": bodyfatpercentage,\n",
    "        \"sleep\": sleep\n",
    "    }\n",
    ")"
   ]
  },
  {
   "cell_type": "code",
   "execution_count": null,
   "metadata": {
    "collapsed": false
   },
   "outputs": [],
   "source": [
    "#db.macros.delete_one({'date': 16857})"
   ]
  },
  {
   "cell_type": "code",
   "execution_count": null,
   "metadata": {
    "collapsed": true
   },
   "outputs": [],
   "source": []
  }
 ],
 "metadata": {
  "kernelspec": {
   "display_name": "Python 2",
   "language": "python",
   "name": "python2"
  },
  "language_info": {
   "codemirror_mode": {
    "name": "ipython",
    "version": 2
   },
   "file_extension": ".py",
   "mimetype": "text/x-python",
   "name": "python",
   "nbconvert_exporter": "python",
   "pygments_lexer": "ipython2",
   "version": "2.7.10"
  }
 },
 "nbformat": 4,
 "nbformat_minor": 0
}
